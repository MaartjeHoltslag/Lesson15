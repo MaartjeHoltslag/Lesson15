{
 "cells": [
  {
   "cell_type": "code",
   "execution_count": 3,
   "metadata": {
    "collapsed": false
   },
   "outputs": [],
   "source": [
    "#Stofzuigerzaag\n",
    "#Jorn Habes & Maartje Holtslag\n",
    "#22-01-2016\n",
    "\n",
    "#Import necessary libraries\n",
    "import urllib\n",
    "import json\n",
    "from osgeo import osr, ogr\n",
    "\n",
    "#Create a file containing the locations and coordinates\n",
    "locations = open(\"Locations.txt\",\"w\")\n",
    "\n",
    "#Define a list of cities\n",
    "listLocations = [\"Wageningen\", \"Amsterdam\", \"Fuji\", \"Lima\", \"Bennekom\", \"Cairo\"]\n",
    "\n",
    "#Define a funtion to get the coordinates of a city and places them in a file\n",
    "def coordinates(city, filename):\n",
    "    url = urllib.urlopen(\"http://maps.googleapis.com/maps/api/geocode/json?address=\" + city)\n",
    "    data = json.loads(url.read())\n",
    "    lat =  data[\"results\"][0][\"geometry\"][\"location\"][\"lat\"]\n",
    "    lng = data[\"results\"][0][\"geometry\"][\"location\"][\"lng\"]\n",
    "    string = city +' '+ str(lat) +' '+ str(lng)\n",
    "    filename.write(string)\n",
    "    filename.write(\"\\n\")\n",
    "    return filename\n",
    "\n",
    "#Run the function for all citites defined in the list\n",
    "for place in listLocations:\n",
    "    coordinates(place, locations)\n",
    "\n",
    "#Creating the shape file using the right coordinate system\n",
    "output = \"Locations.shp\"\n",
    "driver = ogr.GetDriverByName(\"ESRI Shapefile\")\n",
    "GRS = osr.SpatialReference()\n",
    "GRS.ImportFromEPSG(4326)\n",
    "SHP = driver.CreateDataSource(output)\n",
    "layer = SHP.CreateLayer(\"Locations\", GRS, ogr.wkbPoint)\n",
    "    \n",
    "#Setting the coordinates to the layer in the shape file\n",
    "locations = open(\"Locations.txt\",\"r\")\n",
    "for line in locations:\n",
    "    row = line.split()\n",
    "    x, y  = [float(row[1]),float(row[2])]\n",
    "    point = ogr.Geometry(ogr.wkbPoint)\n",
    "    point.SetPoint(0, y, x)\n",
    "    feature = ogr.Feature(layer.GetLayerDefn())\n",
    "    feature.SetGeometry(point)\n",
    "    layer.CreateFeature(feature)\n",
    "\n",
    "#Closing everything    \n",
    "locations.close()\n",
    "SHP.Destroy()"
   ]
  },
  {
   "cell_type": "code",
   "execution_count": null,
   "metadata": {
    "collapsed": true
   },
   "outputs": [],
   "source": []
  }
 ],
 "metadata": {
  "gist_id": "a88db3a5af887f1a8397",
  "kernelspec": {
   "display_name": "Python 2",
   "language": "python",
   "name": "python2"
  },
  "language_info": {
   "codemirror_mode": {
    "name": "ipython",
    "version": 2
   },
   "file_extension": ".py",
   "mimetype": "text/x-python",
   "name": "python",
   "nbconvert_exporter": "python",
   "pygments_lexer": "ipython2",
   "version": "2.7.6"
  }
 },
 "nbformat": 4,
 "nbformat_minor": 0
}
